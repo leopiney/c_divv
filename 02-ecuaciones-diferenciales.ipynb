{
 "cells": [
  {
   "cell_type": "code",
   "execution_count": 1,
   "metadata": {},
   "outputs": [],
   "source": [
    "import numpy as np\n",
    "import matplotlib.pyplot as plt\n",
    "\n",
    "from scipy.misc import derivative"
   ]
  },
  {
   "cell_type": "markdown",
   "metadata": {},
   "source": [
    "# Ecuaciones diferenciales"
   ]
  },
  {
   "cell_type": "markdown",
   "metadata": {},
   "source": [
    "## 1. Definiciones y ejemplos"
   ]
  },
  {
   "cell_type": "markdown",
   "metadata": {},
   "source": [
    "**Definición 1.1** Una *ecuación diferencial* ordinaria es una igualdad en donde:\n",
    "\n",
    "1. La incógnita es una función desconocida $x = f(t)$ definida y derivable en orden $k$ para todo $x \\in \\mathbb{R}$.\n",
    "2. Aparece en la ecuación alguna de las derivadas de $x$ de hasta orden $k$.\n",
    "\n",
    "En general, tenemos que buscar la solución tal que:\n",
    "\n",
    "$$\\dot{x} = f(x(t), t)$$\n",
    "\n",
    "**Definición 1.2** El *orden de la ecuación diferencial* está dado por el orden de la derivada de mayor orden que aparece en la ecuación."
   ]
  },
  {
   "cell_type": "markdown",
   "metadata": {},
   "source": [
    "**Ejemplo 1.1**\n",
    "\n",
    "Sea $f' = (\\cos{t})f$ que es lo mismo que $\\dot{x} = (\\cos{t})x$ es una ecuación diferencial de primer orden.\n",
    "\n",
    "* Una solución es por ejemplo $x = e^{\\sin{t}}$ pues $(e^{\\sin{t}})' = (\\cos{t})(e^{\\sin{t}})$.\n",
    "* Otra solución es por ejemplo $x = 0$ pues $0 = (\\cos{0}) \\cdot 0$.\n",
    "\n",
    "Lo importante es *verificar* una vez que hallemos la o las soluciones en la ecuación original.\n",
    "\n",
    "Es normal que existan *clases de funciones o infinitas funciones* que verifiquen la igualdad en la ecuación. Por ejemplo, en la primer solución de la ecuación $\\dot{x} = (\\cos{t})x$ podríamos también decir que $x = 5 \\cdot e^{\\sin{t}}$. O más genéricamente $x = C \\cdot e^{\\sin{t}}, \\forall C \\in \\mathbb{R}$."
   ]
  },
  {
   "cell_type": "markdown",
   "metadata": {},
   "source": [
    "## 2. Ecuación diferencial de primer orden de variables separadas\n",
    "\n",
    "**Definición 2.1** Una ecuación diferencial ordinaria de primer orden se llama de *variables separadas* si es de la forma:\n",
    "\n",
    "$$\n",
    "\\begin{align*}\n",
    "\\dot{x} &= A(x) \\cdot B(t)\n",
    "\\\\\n",
    "\\dot{x}(t) &= A(x(t)) \\cdot B(t)\n",
    "\\end{align*}\n",
    "$$\n",
    "\n",
    "\n",
    "... donde $A(x)$ es una función conocida que depende sólo de $x$ continua para todo $t$ en un intervalo abierto de $\\mathbb{R}$. Y $B(t)$ es una función conocida que depende sólo de $t$, continua para todo $t$ en un intervalo abierto de $\\mathbb{R}$.\n"
   ]
  },
  {
   "cell_type": "markdown",
   "metadata": {},
   "source": [
    "### Solución de ecuación diferencial de variables separadas\n",
    "\n",
    "Paso 1. Primero separamos al termino $B$ para que quede de un lado solo de la ecuación:\n",
    "\n",
    "$$\n",
    "\\frac{\\dot{x}(t)}{A(x(t))} = B(t)\n",
    "$$\n",
    "\n",
    "Paso 2. Luego integramos ambos lados de la ecuación según $t$:\n",
    "\n",
    "$$\n",
    "\\int_0^t \\frac{\\dot{x}(t)}{A(x(t))} dt = C + \\int_0^t B(t) dt\n",
    "$$\n",
    "\n",
    "Paso 3. Definimos un *cambio de variable* en $x(t)$:\n",
    "\n",
    "$$\n",
    "\\begin{align*}\n",
    "u &= x(t)\n",
    "\\\\\n",
    "\\frac{du}{dt} &= \\dot{x}(t) \\implies du = \\dot{x}(t) dt\n",
    "\\end{align*}\n",
    "$$\n",
    "\n",
    "Paso 4. Aplicamos el cambio de variable:\n",
    "\n",
    "$$\n",
    "\\int_{x(0)}^{x(t)} \\frac{1}{A(u)} du = C + \\int_0^t B(t)\n",
    "$$"
   ]
  },
  {
   "cell_type": "markdown",
   "metadata": {},
   "source": [
    "**Ejemplos**\n",
    "\n",
    "Buscar solución tal que $\\dot{x}(t) = x(t)$"
   ]
  },
  {
   "cell_type": "markdown",
   "metadata": {},
   "source": [
    "Paso 1.\n",
    "\n",
    "$$\n",
    "\\frac{\\dot{x}(t)}{x(t)} = 1\n",
    "$$\n",
    "\n",
    "Paso 2.\n",
    "\n",
    "$$\n",
    "\\int \\frac{\\dot{x}(t)}{x(t)} = C + \\int 1\n",
    "$$\n",
    "\n",
    "Paso 3.\n",
    "\n",
    "$$\n",
    "\\begin{align*}\n",
    "u &= x(t)\n",
    "\\\\\n",
    "du &= \\dot{x}(t) dt\n",
    "\\end{align*}\n",
    "$$\n",
    "\n",
    "Paso 4.\n",
    "\n",
    "$$\n",
    "\\begin{align*}\n",
    "\\int \\frac{1}{u} du &= C + t\n",
    "\\\\\n",
    "\\ln{u} &= t + c \\implies \\ln{x(t)} = t + c \\implies x(t) = e^{t + c}\n",
    "\\end{align*}\n",
    "$$\n",
    "\n",
    "$$\n",
    "x(t) = K \\cdot e^t\n",
    "$$\n",
    "\n"
   ]
  },
  {
   "cell_type": "markdown",
   "metadata": {
    "slideshow": {
     "slide_type": "-"
    }
   },
   "source": [
    "### Solución de ecuación diferencial con condiciones o datos iniciales\n",
    "\n",
    "Paso 1. Se busca la solución general, o la solución ya está dada en el problema.\n",
    "\n",
    "Paso 2. Se aplican condiciones sobre solución general para obtener la o las soluciones.\n",
    "\n",
    "**Ejemplo**\n",
    "\n",
    "Sea la ecuación diferencial $\\dot{x} = (\\cos t)x$, la solución es de la forma $x(t) = Ce^{\\sin{t}}$.\n",
    "\n",
    "Si nos dan la condición que $x(0) = 3$, sustituyendo $t = 0$, en la solución general resulta que $3 = Ce^{\\sin{0}} = C$. Por lo tanto la solución final con dicha condición es:\n",
    "\n",
    "$$\n",
    "x(t) = 3e^{\\sin{t}} \\quad \\forall t \\in \\mathbb{R}\n",
    "$$"
   ]
  },
  {
   "cell_type": "markdown",
   "metadata": {},
   "source": [
    "## 3. Ecuaciones diferenciales lineales de primer orden homegéneas"
   ]
  },
  {
   "cell_type": "markdown",
   "metadata": {},
   "source": [
    "**Definición 3.1** Se llama ecuación diferencial lineal de primer orden homogénea a una ecuación de tipo:\n",
    "\n",
    "$$\\dot{x} + a(t) \\cdot x = 0$$"
   ]
  },
  {
   "cell_type": "markdown",
   "metadata": {},
   "source": [
    "... donde $a(t)$ es una función conocida definida y continua en todo $t \\in \\mathbb{R}$.\n",
    "\n",
    "Podemos ver que es una ecuación de variables separadas pues podemos escribir la ecuación de la siguiente manera:\n",
    "\n",
    "$$\\dot{x} = -a(t) \\cdot x$$"
   ]
  },
  {
   "cell_type": "markdown",
   "metadata": {},
   "source": [
    "### Teorema 3.1\n",
    "\n",
    "*Si la ecuación diferencial lineal de primer orden homogénea $\\dot{x} = bx$ tiene coeficiente $b$ igual a una constante real independiente de $t$, entonces la solución general es*:\n",
    "\n",
    "$$x(t) = K \\cdot e^{bt} \\quad \\forall K \\in \\mathbb{R}$$\n",
    "\n",
    "### Teorema 3.2\n",
    "\n",
    "*Si la ecuación diferencial lineal de primer orden homogénea $\\dot{x} = a(t) \\cdot x$ tiene a la función $a(t)$ continua con una primitiva $A(t)$, entonces la solución general es*:\n",
    "\n",
    "$$x(t) = K \\cdot e^{-A(t)} \\quad \\forall K \\in \\mathbb{R}$$\n",
    "\n",
    "**Demostración**\n",
    "\n",
    "$\\dot{x} = -a(t) \\cdot x$\n",
    "\n",
    "$\\implies \\int \\frac{\\dot{x}(t)}{x(t)} dt = - \\int a(t) dt$\n",
    "\n",
    "$\\implies \\int \\frac{1}{u} du = - \\int a(t) dt$\n",
    "\n",
    "$\\implies C + \\ln{x(x)} = - \\int a(t) dt$\n",
    "\n",
    "$\\implies x(t) = x_H(t) = K \\cdot e^{-\\int a(t) dt}$\n",
    "\n",
    "**Observación 3.1** La solución a una ecuación diferencial homogénea es un espacio vectorial, en donde se cumplen las propiedades de linealidad de suma y producto, como también de derivabilidad."
   ]
  },
  {
   "cell_type": "markdown",
   "metadata": {},
   "source": [
    "## 4. Ecuaciones diferenciales lineales de primer orden no homogéneas"
   ]
  },
  {
   "cell_type": "markdown",
   "metadata": {},
   "source": [
    "**Definición 4.1** Se llama ecuación diferencial lineal de primer orden no homogénea a una ecuación de tipo:\n",
    "\n",
    "$$\\dot{x}(t) + a(t) \\cdot x(t) = b(t)$$\n",
    "\n",
    "## Teorema 4.1\n",
    "\n",
    "Sea la ecuación, que llamaremos $NH$:\n",
    "\n",
    "$$\\dot{x}(t) + a(t) \\cdot x(t) = b(t) \\qquad (NH)$$\n",
    "\n",
    "La solución general de $NH$ es\n",
    "\n",
    "$$x(t) = x_H(t) + x_P(t)$$\n",
    "\n",
    "... donde $x_H$ es la solución general de la ecuación en cuestión pero homogénea ($H$):\n",
    "\n",
    "$$b(t) = 0\\quad \\forall t \\in \\mathbb{R}$$\n",
    "\n",
    "... y $x_P$ es una solución cualquiera de la ecuación $NH$."
   ]
  },
  {
   "cell_type": "markdown",
   "metadata": {},
   "source": [
    "**Demostración**\n",
    "\n",
    "Ver videos clase 4 y 5.\n",
    "Teorema 5.3 en notas de Eleonora Catsigeras"
   ]
  },
  {
   "cell_type": "markdown",
   "metadata": {},
   "source": [
    "-------\n",
    "\n",
    "### Ejemplo simple\n",
    "\n",
    "Sea la ecuación diferencial no homogénea $\\dot{x}(t) + 2x(t) = 1$. Hallar la función $x$.\n",
    "\n",
    "Paso 1. Calculo la solución de la forma homogénea.\n",
    "\n",
    "$\\dot{x_H}(t) + 2x_H(t) = 0$\n",
    "\n",
    "$\\implies a(t) = 2 \\implies A(t) = 2t$\n",
    "\n",
    "$\\implies x_H(t) = K \\cdot e^{-A(t)} \\implies x_H(t) = K \\cdot e^{-2t} \\quad \\forall K \\in \\mathbb{R}$\n",
    "\n",
    "Paso 2. Hallo una solución particular\n",
    "\n",
    "A simple vista, porque la ecuación es sencilla, podemos ver que $x_P(t) = 1/2$ es solución particular de $\\dot{x_P}(t) + 2x_P(t) = 1$.\n",
    "\n",
    "Paso 3. Solución general de la ecuación no homogénea:\n",
    "\n",
    "$x(t) = x_H(t) + x_P(t) \\implies x(t) = K \\cdot e^{-2t} + 1/2$\n",
    "\n",
    "-------"
   ]
  },
  {
   "cell_type": "markdown",
   "metadata": {},
   "source": [
    "### Solución de ecuación diferencial no homogénea utilizando método de variación de constante\n",
    "\n",
    "La solución consiste de los siguientes pasos\n",
    "\n",
    "**Paso 1.** Hallar la solución general de la ecuación homogénea $x_H(t)$"
   ]
  },
  {
   "cell_type": "markdown",
   "metadata": {},
   "source": [
    "**Paso 2.** Hallar una solución particular de la solución de la homogénea utilizando **método de variación de constante**.\n",
    "\n",
    "* **Paso 2.1.** Escribimos a $x_P(t)$ igual que $x_H(t)$ pero a la constante $K$ de $x_H(t)$ la **reemplazamos** por una función desconocida $K(t)$. Hacemos variar lo que antes era constante en función de $t$.\n",
    "\n",
    "\n",
    "* **Paso 2.2.** Sustituímos a $x_P$ en la ecuación no homogénea (NH) dada haciendo que la verifique. Se despeja a $K(t)$ y se halla solución de dicha ecuación diferencial. De las posibles soluciones de $K(t)$, elijo **solamente una**.\n",
    "\n",
    "\n",
    "* **Paso 2.3.** Sustituyo a $K(t)$ en la expresión $x_P(t)$ hallada en el paso 2.1 y esta es la solución $x_P(t)$ que estamos buscando."
   ]
  },
  {
   "cell_type": "markdown",
   "metadata": {},
   "source": [
    "**Paso 3.** Hallamos la solución general de la ecuación no homogénea (NH) como:\n",
    "\n",
    "$$x(t) = x_H(t) + x_P(t)$$"
   ]
  },
  {
   "cell_type": "markdown",
   "metadata": {},
   "source": [
    "## 5. Ecuación diferencial lineal de segundo orden a coeficientes constantes y homogénea"
   ]
  },
  {
   "cell_type": "markdown",
   "metadata": {},
   "source": [
    "**Definición 5.1** Se llama ecuación diferencial de segundo orden se llama lineal a coeficientes constantes y homogénea si es:\n",
    "\n",
    "$$\\ddot{x}(t) + a(t) \\cdot \\dot{x}(t) + b(t) \\cdot x(t)= 0$$\n",
    "\n",
    "... donde $a$  y $b$ son constantes dadas independientes de $x$ y $t$."
   ]
  },
  {
   "cell_type": "markdown",
   "metadata": {},
   "source": [
    "### Teorema 5.1: Estructura vectorial de las soluciones de una ecuación lineal homogénea\n",
    "\n",
    "*Todas las funciones soluciones de la ecuación diferencial de segundo orden homogénea, forman un **espacio vectorial de dimensión 2**.*"
   ]
  },
  {
   "cell_type": "markdown",
   "metadata": {},
   "source": [
    "**Demostración**\n",
    "\n",
    "Sean $x_1(t)$ y $x_2(t)$ soluciones de la ecuación lineal homogénea de segundo grado dada, entonces son solución de\n",
    "\n",
    "$$\\ddot{x}(t) + a(t) \\cdot \\dot{x}(t) + b(t) \\cdot x(t)= 0$$\n",
    "\n",
    "Por lo tanto cualquier combinación lineal de las soluciones $x_1$ y $x_2$ es también solución, o sea\n",
    "\n",
    "$$K_1 \\cdot x_1(t) + K_2 \\cdot x_2(t) \\quad \\forall K_1, K_2 \\in \\mathbb{R}$$\n",
    "\n",
    "son soluciones. Por lo tanto el conjunto de funciones solución forma un espacio vectorial de funciones reales de una variable. La demostración de que este espacio es de dimensión 2 es ajeno al curso."
   ]
  },
  {
   "cell_type": "markdown",
   "metadata": {},
   "source": [
    "### Colorario 5.1\n",
    "\n",
    "*Si dos funciones solución $x_1(t)$ y $x_2(t)$ de la función $\\ddot{x} + a\\dot{x} + bx = 0$ **son linealmente independientes**, entonces forman una base del espacio vectorial de todas las soluciones. Por lotanto el espacio de las soluciones está generado por $x_1$ y $x_2$, es decir, la solución general es:*\n",
    "\n",
    "$$x(t) = K_1 x_1(t) + K_2 x_2(t)$$\n",
    "\n",
    "*... donde $K_1$ y $K_2$ son constantes reales arbitrarias.*\n",
    "\n",
    "Por ende, **para hallar la solución general** de la ecuación lineal homogénea de segundo grado, **basta con hallar dos soluciones particulares que sean linealmente independientes**."
   ]
  },
  {
   "cell_type": "markdown",
   "metadata": {},
   "source": [
    "### Solución de ecuación diferencial homogénea de segundo orden\n",
    "\n",
    "Buscamos **soluciones exponenciales** para la ecuación $\\ddot{x} + a\\dot{x} + bx = 0$ de la forma $x(t) = e^{\\lambda t}$, donde $\\lambda$ es una constante real a determinar.\n",
    "\n",
    "De esta búsqueda se llega a que la siguiente definición.\n",
    "\n",
    "**Definición 5.2** Se llama **ecuación característica** de una ecuación diferencial de segundo orden homogénea $x(t)$ la ecuación\n",
    "\n",
    "$$\\lambda^2 + a\\lambda + b = 0$$\n",
    "\n",
    "... donde $a$ y $b$ son los coeficientes constantes dados en la ecuación $x(t)$.\n",
    "\n",
    "Por lo tanto $x(t) = e^{\\lambda t}$ es solución **si y solo si** $\\lambda$ es solución de la ecuación característica de $x(t)$. Entonces hay que hallar las raíces de la ecuación característica para determinar los posibles valores de $\\lambda$."
   ]
  },
  {
   "cell_type": "markdown",
   "metadata": {},
   "source": [
    "Como lo que se quiere es obtener **dos soluciones linealmente independientes**, los valores de $\\lambda$ obtenidos se diferencian en los siguientes casos:\n",
    "\n",
    "**Caso A**: Existen $\\lambda_1, \\lambda_2 \\in \\mathbb{R}$ soluciones de la ecuación característica de $x(t)$. Para este caso la solución general es de la forma:\n",
    "\n",
    "$$x(t) = K_1 e^{\\lambda_1 t} + K_2 e^{\\lambda_2 t}$$\n",
    "\n",
    "**Caso B**: Esiste $\\lambda_0 \\in \\mathbb{R}$ solución doble de la ecuación característica de $x(t)$. Para este caso la solución general es de la forma:\n",
    "\n",
    "$$x(t) = K_1 e^{\\lambda_0 t} + K_2 t e^{\\lambda_0 t}$$\n",
    "\n",
    "**Caso C**: Existen dos soluciones complejas de la ecuación característica de $x(t)$ que tienen la forma $\\alpha \\pm i \\beta$. Para este caso la solución general es de la forma:\n",
    "\n",
    "$$x(t) = K_1 e^{\\alpha t} \\cos{\\beta t} + K_2 e^{\\alpha t} \\sin{\\beta t}$$"
   ]
  },
  {
   "cell_type": "markdown",
   "metadata": {},
   "source": [
    "** Demostración **\n",
    "\n",
    "Ver notas de Eleonora Catsigeras sección 6.6."
   ]
  },
  {
   "cell_type": "markdown",
   "metadata": {},
   "source": [
    "### Solución con condiciones iniciales\n",
    "\n",
    "Para que la solución de una ecuación diferencial homogénea de segundo orden sea única, es necesario que existan **dos** datos iniciales $x(t_0) = u_0$ y $x(t_1) = u_1$, donde $t_0$, $t_1$, $u_0$ y $u_1$ son datos **dados en el problema**."
   ]
  },
  {
   "cell_type": "code",
   "execution_count": null,
   "metadata": {},
   "outputs": [],
   "source": []
  }
 ],
 "metadata": {
  "kernelspec": {
   "display_name": "Python 3",
   "language": "python",
   "name": "python3"
  },
  "language_info": {
   "codemirror_mode": {
    "name": "ipython",
    "version": 3
   },
   "file_extension": ".py",
   "mimetype": "text/x-python",
   "name": "python",
   "nbconvert_exporter": "python",
   "pygments_lexer": "ipython3",
   "version": "3.6.0"
  }
 },
 "nbformat": 4,
 "nbformat_minor": 2
}
