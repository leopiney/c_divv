{
 "cells": [
  {
   "cell_type": "markdown",
   "metadata": {},
   "source": [
    "# Sucesiones y series"
   ]
  },
  {
   "cell_type": "markdown",
   "metadata": {},
   "source": [
    "## Definiciones y Límite"
   ]
  },
  {
   "cell_type": "markdown",
   "metadata": {},
   "source": [
    "**Definición 3.1** Una sucesión es una función de naturales en los reales, $a : \\mathbb{N} \\rightarrow \\mathbb{R}$. Al enésimo elemento de la sucesión se lo denota como $a_n$, ya la sucesión entera como $(a_n)_{n \\in \\mathbb{N}}$."
   ]
  },
  {
   "cell_type": "markdown",
   "metadata": {},
   "source": [
    "**Definición 3.2** Una sucesión $a_n$ **tiene límite** $L \\in \\mathbb{R}$, que es lo mismo que $lim_{n \\rightarrow \\infty} a_n = L$, si y solo si $\\forall \\epsilon > 0, \\exists n_0 \\in \\mathbb{N}$ tal que $\\forall n \\geq n_0$ se tiene que $a_n \\in E(L, \\epsilon)$."
   ]
  },
  {
   "cell_type": "markdown",
   "metadata": {},
   "source": [
    "**Pique de los jugadores** Es un “juego” de $\\epsilon - n_0$ similar al de continuidad con $\\epsilon - \\delta$. Es decir, un jugador va eligiendo valores de $\\epsilon$ para que el segundo jugador conteste con un momento $n_0$ a partir del cual $a_n \\in E(L,\\epsilon)$. Cuando vayamos a demostrar que una sucesión an tiene límite, usando la definición, nos pondremos en el papel del segundo jugador, y tendremos que encontrar el $n_0$ para un $\\epsilon$ dado. Si, en otro caso, sabemos que determinada sucesión tiene límite, y pretendemos usar la definición, entonces estaremos en el papel del primer jugador."
   ]
  },
  {
   "cell_type": "markdown",
   "metadata": {},
   "source": [
    "### Proposición 3.1\n",
    "\n",
    "Si existe el límite en $a_n$, entonces es único\n",
    "\n",
    "**Demostración**\n",
    "\n",
    "---"
   ]
  },
  {
   "cell_type": "markdown",
   "metadata": {},
   "source": [
    "**Definición 3.3** Decimos que la sucesión $a_n$ está **acotada** sii $\\exists K \\in \\mathbb{R}$ tal que $|a_n| \\leq K, \\forall n \\in \\mathbb{N}$."
   ]
  },
  {
   "cell_type": "markdown",
   "metadata": {},
   "source": [
    "### Proposición 3.2\n",
    "\n",
    "Si $a_n$ tiene limite, entonces está acotada\n",
    "\n",
    "**Demostración**\n",
    "\n",
    "---"
   ]
  },
  {
   "cell_type": "markdown",
   "metadata": {},
   "source": [
    "**Definición 3.5** Decimos que una sucesión $a_n$ es **monótona creciente** sii $a_{n+1} \\geq a_n, \\forall n \\in \\mathbb{N}$, y  es **monótona decreciente** sii $a_{n+1} \\leq a_n, \\forall n \\in \\mathbb{N}$."
   ]
  },
  {
   "cell_type": "code",
   "execution_count": null,
   "metadata": {},
   "outputs": [],
   "source": []
  }
 ],
 "metadata": {
  "kernelspec": {
   "display_name": "Python 3",
   "language": "python",
   "name": "python3"
  },
  "language_info": {
   "codemirror_mode": {
    "name": "ipython",
    "version": 3
   },
   "file_extension": ".py",
   "mimetype": "text/x-python",
   "name": "python",
   "nbconvert_exporter": "python",
   "pygments_lexer": "ipython3",
   "version": "3.6.0"
  }
 },
 "nbformat": 4,
 "nbformat_minor": 2
}
